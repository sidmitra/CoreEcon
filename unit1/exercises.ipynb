{
 "cells": [
  {
   "cell_type": "markdown",
   "metadata": {},
   "source": [
    "# Exercises"
   ]
  },
  {
   "cell_type": "markdown",
   "metadata": {},
   "source": [
    "**[1.1](https://core-econ.org/the-economy/book/text/01.html#exercise-11-inequality-in-the-fourteenth-century)** Inequality in the fourteenth century\n",
    "\n",
    "What do you think a ‘skyscraper’ figure like Figure 1.2 would have looked like at the time of Ibn Battuta (early to mid-fourteenth century)?"
   ]
  },
  {
   "cell_type": "markdown",
   "metadata": {},
   "source": [
    "The skyscrapers wouldn't be that tall. The inequality has grown since then, so the difference between 90th percentile and 10th percentile wouldn't be that high, i.e. the incline wouldn't be that sharp.\n",
    "The difference between countries were not that high. So overall all the countries would would have very few skyscrapers and overall the whole landscape would be flatter.\n"
   ]
  },
  {
   "cell_type": "markdown",
   "metadata": {},
   "source": [
    "**[1.2](https://core-econ.org/the-economy/book/text/01.html#exercise-12-working-with-income-data)** Working with income data\n",
    "\n",
    "You can see the interactive graph and download the spreadsheet [data](http://tinyco.re/7444763) that we used to create Figure 1.2. Choose five countries that you are interested in.\n",
    "\n",
    "    For each one calculate the 90/10 ratio in 1980, 1990 and 2014.\n",
    "    Describe the differences between countries and the changes over time that you find.\n",
    "    Can you think of any explanations for them?\n"
   ]
  },
  {
   "cell_type": "code",
   "execution_count": 1,
   "metadata": {},
   "outputs": [
    {
     "name": "stderr",
     "output_type": "stream",
     "text": [
      "/Users/sidmitra/Library/Caches/pypoetry/virtualenvs/coreecon-oReBlZOn-py3.7/lib/python3.7/site-packages/pandas/compat/__init__.py:117: UserWarning: Could not import the lzma module. Your installed Python is incomplete. Attempting to use lzma compression will result in a RuntimeError.\n",
      "  warnings.warn(msg)\n"
     ]
    }
   ],
   "source": [
    "import pandas as pd\n",
    "import numpy as np\n",
    "import matplotlib\n",
    "import matplotlib.pyplot as plt\n",
    "%matplotlib inline"
   ]
  },
  {
   "cell_type": "code",
   "execution_count": 2,
   "metadata": {
    "scrolled": true
   },
   "outputs": [
    {
     "name": "stdout",
     "output_type": "stream",
     "text": [
      "       Country  Year  Decile 1 Income  Decile 2 Income  Decile 3 Income  \\\n",
      "0  Afghanistan  1980              206              350              455   \n",
      "1  Afghanistan  1981              212              361              469   \n",
      "2  Afghanistan  1982              221              377              490   \n",
      "3  Afghanistan  1983              238              405              527   \n",
      "4  Afghanistan  1984              249              424              551   \n",
      "\n",
      "   Decile 4 Income  Decile 5 Income  Decile 6 Income  Decile 7 Income  \\\n",
      "0              556              665              793              955   \n",
      "1              574              686              818              986   \n",
      "2              599              716              854             1029   \n",
      "3              644              771              919             1107   \n",
      "4              674              806              961             1157   \n",
      "\n",
      "   Decile 8 Income  Decile 9 Income  Decile 10 Income  Mean Income  Population  \n",
      "0             1187             1594              3542         1030    13211412  \n",
      "1             1225             1645              3655         1063    12996923  \n",
      "2             1278             1717              3814         1109    12667001  \n",
      "3             1376             1848              4105         1194    12279095  \n",
      "4             1438             1932              4291         1248    11912510  \n"
     ]
    }
   ],
   "source": [
    "xl_file = pd.ExcelFile(\"GCIPrawdata.xlsx\")\n",
    "df = xl_file.parse(sheet_name='GCIPrawdata', skiprows=2, header=0)\n",
    "print(df.head())"
   ]
  },
  {
   "cell_type": "code",
   "execution_count": 3,
   "metadata": {
    "scrolled": true
   },
   "outputs": [
    {
     "name": "stderr",
     "output_type": "stream",
     "text": [
      "/Users/sidmitra/Library/Caches/pypoetry/virtualenvs/coreecon-oReBlZOn-py3.7/lib/python3.7/site-packages/ipykernel_launcher.py:10: SettingWithCopyWarning: \n",
      "A value is trying to be set on a copy of a slice from a DataFrame.\n",
      "Try using .loc[row_indexer,col_indexer] = value instead\n",
      "\n",
      "See the caveats in the documentation: https://pandas.pydata.org/pandas-docs/stable/user_guide/indexing.html#returning-a-view-versus-a-copy\n",
      "  # Remove the CWD from sys.path while we load stuff.\n"
     ]
    },
    {
     "data": {
      "text/html": [
       "<div>\n",
       "<style scoped>\n",
       "    .dataframe tbody tr th:only-of-type {\n",
       "        vertical-align: middle;\n",
       "    }\n",
       "\n",
       "    .dataframe tbody tr th {\n",
       "        vertical-align: top;\n",
       "    }\n",
       "\n",
       "    .dataframe thead th {\n",
       "        text-align: right;\n",
       "    }\n",
       "</style>\n",
       "<table border=\"1\" class=\"dataframe\">\n",
       "  <thead>\n",
       "    <tr style=\"text-align: right;\">\n",
       "      <th></th>\n",
       "      <th>Country</th>\n",
       "      <th>Year</th>\n",
       "      <th>90/10</th>\n",
       "    </tr>\n",
       "  </thead>\n",
       "  <tbody>\n",
       "    <tr>\n",
       "      <th>140</th>\n",
       "      <td>Argentina</td>\n",
       "      <td>1980</td>\n",
       "      <td>12.431300</td>\n",
       "    </tr>\n",
       "    <tr>\n",
       "      <th>150</th>\n",
       "      <td>Argentina</td>\n",
       "      <td>1990</td>\n",
       "      <td>14.992126</td>\n",
       "    </tr>\n",
       "    <tr>\n",
       "      <th>174</th>\n",
       "      <td>Argentina</td>\n",
       "      <td>2014</td>\n",
       "      <td>17.356530</td>\n",
       "    </tr>\n",
       "    <tr>\n",
       "      <th>858</th>\n",
       "      <td>Chile</td>\n",
       "      <td>1980</td>\n",
       "      <td>30.144304</td>\n",
       "    </tr>\n",
       "    <tr>\n",
       "      <th>868</th>\n",
       "      <td>Chile</td>\n",
       "      <td>1990</td>\n",
       "      <td>36.596252</td>\n",
       "    </tr>\n",
       "    <tr>\n",
       "      <th>892</th>\n",
       "      <td>Chile</td>\n",
       "      <td>2014</td>\n",
       "      <td>23.751337</td>\n",
       "    </tr>\n",
       "    <tr>\n",
       "      <th>1953</th>\n",
       "      <td>India</td>\n",
       "      <td>1980</td>\n",
       "      <td>15.833333</td>\n",
       "    </tr>\n",
       "    <tr>\n",
       "      <th>1963</th>\n",
       "      <td>India</td>\n",
       "      <td>1990</td>\n",
       "      <td>17.626984</td>\n",
       "    </tr>\n",
       "    <tr>\n",
       "      <th>1987</th>\n",
       "      <td>India</td>\n",
       "      <td>2014</td>\n",
       "      <td>19.937220</td>\n",
       "    </tr>\n",
       "    <tr>\n",
       "      <th>3308</th>\n",
       "      <td>Pakistan</td>\n",
       "      <td>1980</td>\n",
       "      <td>10.048780</td>\n",
       "    </tr>\n",
       "  </tbody>\n",
       "</table>\n",
       "</div>"
      ],
      "text/plain": [
       "        Country  Year      90/10\n",
       "140   Argentina  1980  12.431300\n",
       "150   Argentina  1990  14.992126\n",
       "174   Argentina  2014  17.356530\n",
       "858       Chile  1980  30.144304\n",
       "868       Chile  1990  36.596252\n",
       "892       Chile  2014  23.751337\n",
       "1953      India  1980  15.833333\n",
       "1963      India  1990  17.626984\n",
       "1987      India  2014  19.937220\n",
       "3308   Pakistan  1980  10.048780"
      ]
     },
     "execution_count": 3,
     "metadata": {},
     "output_type": "execute_result"
    }
   ],
   "source": [
    "countries = ['Chile', 'India', 'United Kingdom', 'Argentina', 'Pakistan']\n",
    "years=[1980, 1990, 2014]\n",
    "\n",
    "filter_countries = df.Country.isin(countries)\n",
    "with_countries_df = df[filter_countries]\n",
    "filter_year = with_countries_df.Year.isin(years)\n",
    "with_years_df = with_countries_df[filter_year]\n",
    "\n",
    "filtered = with_years_df[['Country', 'Year', 'Decile 1 Income', 'Decile 10 Income']]\n",
    "filtered['90/10'] =  filtered['Decile 10 Income'] / filtered['Decile 1 Income']\n",
    "final = filtered[['Country', 'Year', '90/10']]\n",
    "final.head(10)"
   ]
  },
  {
   "cell_type": "code",
   "execution_count": 4,
   "metadata": {},
   "outputs": [
    {
     "data": {
      "image/png": "[encoded data removed]",
      "text/plain": [
       "<Figure size 432x288 with 1 Axes>"
      ]
     },
     "metadata": {
      "needs_background": "light"
     },
     "output_type": "display_data"
    }
   ],
   "source": [
    "fig, ax = plt.subplots()\n",
    "for country in countries:\n",
    "    filter_one_country = final.Country.isin([country])\n",
    "    tmp_df = final[filter_one_country]\n",
    "    ax.plot(tmp_df.Year, tmp_df['90/10'], label=country)\n",
    "legend = ax.legend()\n"
   ]
  }
 ],
 "metadata": {
  "kernelspec": {
   "display_name": "Python 3",
   "language": "python",
   "name": "python3"
  },
  "language_info": {
   "codemirror_mode": {
    "name": "ipython",
    "version": 3
   },
   "file_extension": ".py",
   "mimetype": "text/x-python",
   "name": "python",
   "nbconvert_exporter": "python",
   "pygments_lexer": "ipython3",
   "version": "3.7.6"
  }
 },
 "nbformat": 4,
 "nbformat_minor": 4
}
